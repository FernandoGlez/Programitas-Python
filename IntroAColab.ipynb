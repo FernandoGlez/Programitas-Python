{
  "nbformat": 4,
  "nbformat_minor": 0,
  "metadata": {
    "colab": {
      "name": "IntroAColab.ipynb",
      "provenance": []
    },
    "kernelspec": {
      "name": "python3",
      "display_name": "Python 3"
    }
  },
  "cells": [
    {
      "cell_type": "markdown",
      "metadata": {
        "id": "AaaCUpDk4RRn",
        "colab_type": "text"
      },
      "source": [
        "<p align=\"center\">\n",
        "  <img src=\"https://upload.wikimedia.org/wikipedia/commons/thumb/8/8f/EdX.svg/1200px-EdX.svg.png\" alt=\"edx\" width=\"200\">\n",
        "  <img src=\"https://lh3.googleusercontent.com/proxy/u8ckZRMRxcYa9_I8BoU3Vu3ywPZYLd-Ae7eFhuTIqB1PysJjwCG3stqOzNVgGvYdwzaA1I_zb2ws_S9C29T-0w4oaTr_ckt2Xw4KPbfqq9EMAZ_KpsqCJOO5TJI\" alt=\"Universidad Galileo\" width=\"200\">\n",
        "</p>\n",
        "\n",
        "# Introducción A Colab\n",
        "\n",
        "Colab, les permite escribir y ejecutar código de Python en su navegador. En este curso utilizaremos esta herramienta por las siguientes razones:\n",
        "\n",
        "* No necesitan configurar nada\n",
        "* Van a tener acceso a una máquina en la nube gratuitamente\n",
        "* Se les puede compartir fácilmente actividades\n",
        "\n",
        "Actualmente Colab se ha convertido en una de las herramientas más populares para estudiantes, científicos de datos e investigadores de inteligencia artificial. "
      ]
    },
    {
      "cell_type": "markdown",
      "metadata": {
        "id": "DSDwpegC5hTz",
        "colab_type": "text"
      },
      "source": [
        "## Empezando\n",
        "\n",
        "El documento que ustedes están viendo desde su navegador no es una página estática, sino un ambiente interactivo llamado ***Colab Notebook*** que les permite escribir y ejecutar código de Python.\n",
        "\n",
        "Por ejemplo, aquí hay una celda de código con un script de Python bastante corto que imprime números del 1 al 10 utilizando un ciclo for:"
      ]
    },
    {
      "cell_type": "code",
      "metadata": {
        "id": "7Gv-dLV54AWb",
        "colab_type": "code",
        "colab": {}
      },
      "source": [
        "for i in range(1, 11):\n",
        "  print(i)"
      ],
      "execution_count": 0,
      "outputs": []
    },
    {
      "cell_type": "markdown",
      "metadata": {
        "id": "oDSxTNMe6jUh",
        "colab_type": "text"
      },
      "source": [
        "Para ejecutar el código de la celda de arriba, selecciónenla con un click esa celda y ya sea que presionen el boton de correr (*play button*) que está a la izquierda del código, o presionen en su teclado (una vez ya hecho click sobre la celda) `Command + Enter` si están utilizando macOS o `Ctrl + Enter` si están utilizando Windows o Linux. Para editar o agregar más código, solo hagan click nuevamente sobre la celda y empiecen a editar.\n",
        "\n",
        "Las variables que definen en una celda, pueden utilizarse después en cualquier otra celda, es decir, las variables son **globales** en todo el notebook:"
      ]
    },
    {
      "cell_type": "code",
      "metadata": {
        "id": "Cl1dSGG37rub",
        "colab_type": "code",
        "colab": {}
      },
      "source": [
        "# creamos una variable que guarda como valor los segundos que hay en un dia\n",
        "seconds_in_a_day = 24 * 60 * 60\n",
        "seconds_in_a_day"
      ],
      "execution_count": 0,
      "outputs": []
    },
    {
      "cell_type": "markdown",
      "metadata": {
        "id": "8cpTxaLl8ep0",
        "colab_type": "text"
      },
      "source": [
        "Si ejecutan el código de arriba, la variable `seconds_in_a_day` se creará y puede ser utilizada en las celdas siguientes, por ejemplo podemos calcular los segundos en una semanda utilizando `seconds_in_a_day`:"
      ]
    },
    {
      "cell_type": "code",
      "metadata": {
        "id": "m1xYEWNm7qUS",
        "colab_type": "code",
        "colab": {}
      },
      "source": [
        "# creamos la variable seconds_in_a_week que guarda como valor los segundos en una semana\n",
        "seconds_in_a_week = 7 * seconds_in_a_day # estamos utilizando seconds_in_a_day\n",
        "seconds_in_a_week"
      ],
      "execution_count": 0,
      "outputs": []
    },
    {
      "cell_type": "markdown",
      "metadata": {
        "id": "itgwBZti88WN",
        "colab_type": "text"
      },
      "source": [
        "Los notebooks de Colab permiten que ustedes puedan combinar código ejecutable y texto enriquecido en un solo documento, así como también imágenes, HTML, $\\LaTeX$ y más. Cuando ustedes creen sus propios notebooks de Colab, estos se guardan en su cuenta de Google Drive. Ustedes pueden compartir fácilmente sus notebooks con otros colaboradores o amigos, haciendo que ellos puedan hacer comentarios en sus notebooks o incluso editarlos. Para aprender más acerca de Colab, vean la [Introducción a Colab](https://colab.research.google.com/notebooks/basic_features_overview.ipynb). Para crear un nuevo notebook de Colab, pueden utilizar el menu superior `File -> New Notebook` o utilizar el siguiente link: [Crear un Notebook de Colab](http://colab.research.google.com/#create=true)"
      ]
    },
    {
      "cell_type": "markdown",
      "metadata": {
        "id": "_num_GSg_Ymw",
        "colab_type": "text"
      },
      "source": [
        "# Librerías\n",
        "\n",
        "Con Colab pueden utilizar librerías poderosas y famosas de Python para analizar y visualizar datos. El código de abajo utiliza la librería **numpy** para generar datos aleatorios y utiliza **matplotlib** para visualizarlos."
      ]
    },
    {
      "cell_type": "code",
      "metadata": {
        "id": "Itb2-xj-8wRK",
        "colab_type": "code",
        "colab": {}
      },
      "source": [
        "# importamos la libreria numpy\n",
        "import numpy as np\n",
        "# importamos el modulo pyplot de la libreria matplotlib y le ponemos el alias plt\n",
        "from matplotlib import pyplot as plt\n",
        "\n",
        "# generamos 100 numeros aleatorios\n",
        "y = 200 + np.random.randn(100)\n",
        "x = [x for x in range(len(y))]\n",
        "\n",
        "plt.plot(x, y, '-')\n",
        "plt.fill_between(x, y, 195, where=(y > 195), facecolor='g', alpha=0.6)\n",
        "\n",
        "plt.title(\"Visualización Ejemplo\")\n",
        "plt.show()"
      ],
      "execution_count": 0,
      "outputs": []
    },
    {
      "cell_type": "markdown",
      "metadata": {
        "id": "GSa_SJ9-AAVc",
        "colab_type": "text"
      },
      "source": [
        "Ustedes pueden importar sus propios datos en los notebooks de Colab desde su cuenta de Google Drive, incluyendo hojas de cálculo, así como también desde GitHub y otras muchas fuentes. Para aprender más de como importar datos, y cómo Colab puede utilizarse para visualización de datos, vean los siguientes enlaces:\n",
        "\n",
        "### Colab en General\n",
        "* [Guía de Markdown](https://colab.research.google.com/notebooks/markdown_guide.ipynb)\n",
        "* [Importar librerías e Instalar dependencias](https://colab.research.google.com/notebooks/snippets/importing_libraries.ipynb)\n",
        "\n",
        "### Trabajando con Datos\n",
        "* [Cargar Datos: Drive, Sheets, y Google Cloud Storage](https://colab.research.google.com/notebooks/io.ipynb)\n",
        "* [Gráficas: Visualización de Datos](https://colab.research.google.com/notebooks/charts.ipynb)"
      ]
    },
    {
      "cell_type": "markdown",
      "metadata": {
        "id": "ii7XlTfGB7I7",
        "colab_type": "text"
      },
      "source": [
        "## Ejercicio\n",
        "\n",
        "Vamos a hacer un pequeño ejercicio. Complete la función `square` que dado un número pasado como argumento (parámetro `x`) devuelva como resultado el cuadrado de ese número ($x^2$), al finalizar ejecute la celda para obtener un resultado.\n"
      ]
    },
    {
      "cell_type": "code",
      "metadata": {
        "id": "6-bnYlUVDOQv",
        "colab_type": "code",
        "colab": {}
      },
      "source": [
        "import random\n",
        "\n",
        "def square(x):\n",
        "  # devuelva el cuadrado de x\n",
        "  pass\n",
        "\n",
        "\n",
        "def test():\n",
        "  try:\n",
        "    random.seed(123)\n",
        "    x = [random.random() + 10 for i in range(5)]\n",
        "    y = map(lambda x: '%.02f' % square(x), x)\n",
        "    print(','.join(y))\n",
        "  except Exception:\n",
        "    print('Por favor complete correctamente la funcion square')\n",
        "\n",
        "\n",
        "test()"
      ],
      "execution_count": 0,
      "outputs": []
    }
  ]
}